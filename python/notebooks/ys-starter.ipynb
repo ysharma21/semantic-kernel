{
 "cells": [
  {
   "cell_type": "code",
   "execution_count": 12,
   "metadata": {},
   "outputs": [
    {
     "name": "stdout",
     "output_type": "stream",
     "text": [
      "chat\n"
     ]
    }
   ],
   "source": [
    "import semantic_kernel as sk\n",
    "import os\n",
    "from semantic_kernel.connectors.ai.open_ai import OpenAITextCompletion, AzureTextCompletion, AzureChatCompletion, OpenAIChatCompletion\n",
    "\n",
    "kernel = sk.Kernel()\n",
    "\n",
    "# Prepare OpenAI service using credentials stored in the `.env` file\n",
    "# api_key, org_id = sk.openai_settings_from_dot_env()\n",
    "# kernel.add_chat_service(\"chat-gpt\", OpenAIChatCompletion(\"gpt-3.5-turbo\", api_key, org_id))\n",
    "\n",
    "# Alternative using Azure:\n",
    "deployment, api_key, endpoint = sk.azure_openai_settings_from_dot_env()\n",
    "print(deployment)\n",
    "# deployment = os.getenv('AZURE_OPENAI_DEPLOYMENT_NAME')\n",
    "# api_key = os.getenv('AZURE_OPENAI_API_KEY')\n",
    "# endpoint = os.getenv('AZURE_OPENAI_ENDPOINT')\n",
    "kernel.add_chat_service(\"chat_completion\", AzureChatCompletion(\"chat\", endpoint, api_key))\n",
    "\n",
    "prompt = kernel.create_semantic_function(\"\"\"What is Azure OpenAI management?\"\"\")\n",
    "prompt()\n",
    "print(prompt())\n",
    "\n",
    "\n",
    "# # Wrap your prompt in a function\n",
    "# prompt = kernel.create_semantic_function(\"\"\"\n",
    "# 1) A robot may not injure a human being or, through inaction,\n",
    "# allow a human being to come to harm.\n",
    "\n",
    "# 2) A robot must obey orders given it by human beings except where\n",
    "# such orders would conflict with the First Law.\n",
    "\n",
    "# 3) A robot must protect its own existence as long as such protection\n",
    "# does not conflict with the First or Second Law.\n",
    "\n",
    "# Give me the TLDR in exactly 5 words.\"\"\")\n",
    "\n",
    "# # Run your prompt\n",
    "# print(prompt()) # => Robots must not harm humans."
   ]
  }
 ],
 "metadata": {
  "kernelspec": {
   "display_name": "antenv",
   "language": "python",
   "name": "python3"
  },
  "language_info": {
   "codemirror_mode": {
    "name": "ipython",
    "version": 3
   },
   "file_extension": ".py",
   "mimetype": "text/x-python",
   "name": "python",
   "nbconvert_exporter": "python",
   "pygments_lexer": "ipython3",
   "version": "3.11.0"
  },
  "orig_nbformat": 4
 },
 "nbformat": 4,
 "nbformat_minor": 2
}
